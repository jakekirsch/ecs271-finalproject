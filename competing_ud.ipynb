{
 "cells": [
  {
   "cell_type": "code",
   "execution_count": 1,
   "metadata": {
    "ExecuteTime": {
     "end_time": "2024-06-07T22:24:43.996717300Z",
     "start_time": "2024-06-07T22:23:44.160401700Z"
    },
    "tags": []
   },
   "outputs": [],
   "source": [
    "import time\n",
    "import torch\n",
    "from utils import image_utils\n",
    "from utils.image_utils import gen_index_file\n",
    "from unet.dataset import SegThorImagesDataset\n",
    "from torch.utils.data import DataLoader, random_split\n",
    "\n",
    "from unet.simplified_unet_model import SimplifiedUNet\n",
    "from unet.loss import GeneralizedDiceLoss, print_dice_by_category\n",
    "from torch import optim\n",
    "from torch import nn\n",
    "import os \n",
    "import pandas as pd \n",
    "from torchvision.transforms import v2\n",
    "from importlib import reload\n",
    "import pandas as pd\n",
    "from sklearn.model_selection import train_test_split \n",
    "import torch.nn.functional as F\n",
    "from unet.loss import RectificationLoss\n",
    "from torch.optim.lr_scheduler import ExponentialLR\n",
    "from unet.Deeplab3 import load_deeplab"
   ]
  },
  {
   "cell_type": "code",
   "execution_count": 2,
   "metadata": {
    "ExecuteTime": {
     "end_time": "2024-06-07T22:24:44.051137900Z",
     "start_time": "2024-06-07T22:24:44.044617900Z"
    },
    "tags": []
   },
   "outputs": [
    {
     "name": "stdout",
     "output_type": "stream",
     "text": [
      "Filename: data/train_patient_idx.csv already exists, skipping gen\n"
     ]
    }
   ],
   "source": [
    "# if index file doesn't exist, generate and save \n",
    "filenames = image_utils.gen_index_file(root='./data/train')\n",
    "filenames"
   ]
  },
  {
   "cell_type": "code",
   "execution_count": 3,
   "metadata": {
    "ExecuteTime": {
     "end_time": "2024-06-07T22:24:44.062055400Z",
     "start_time": "2024-06-07T22:24:44.058226800Z"
    },
    "tags": []
   },
   "outputs": [],
   "source": [
    "DATA_DIR = '/home/jupyter/ecs271_dataset/data/train'\n",
    "EXPERIMENT_DIR = '/home/jupyter/ecs271_dataset/models'\n",
    "TRAIN_CSV = \"data/train_patient_idx_sorted.csv\"\n",
    "VALID_CSV = \"data/valid_patient_idx_sorted.csv\"\n",
    "INPUT_DATA_INDEX = 'data/train_patient_idx.csv'\n",
    "TEST_CSV = \"data/test_patient_idx.csv\""
   ]
  },
  {
   "cell_type": "code",
   "execution_count": 4,
   "metadata": {
    "ExecuteTime": {
     "end_time": "2024-06-07T22:24:44.162466900Z",
     "start_time": "2024-06-07T22:24:44.062055400Z"
    },
    "tags": []
   },
   "outputs": [
    {
     "name": "stdout",
     "output_type": "stream",
     "text": [
      "File exists: data/train_patient_idx_sorted.csv, skipping\n"
     ]
    }
   ],
   "source": [
    "# split the source train data into 80/20 train/valid split if needed\n",
    "\n",
    "df = pd.read_csv(INPUT_DATA_INDEX)\n",
    "def split_to_train_valid_dfs(df, filenames = [TRAIN_CSV, VALID_CSV]):\n",
    "    for file in filenames:\n",
    "        if os.path.isfile(file):\n",
    "            print(f\"File exists: {file}, skipping\")\n",
    "            return\n",
    "\n",
    "    print(f\"One of files does not exist, splitting\")\n",
    "\n",
    "    train_df, valid_df = train_test_split(df, test_size=0.2, random_state=42)\n",
    "\n",
    "    # order by slice_idx for caching and speed up of DataLoader\n",
    "    sorted_train = train_df.sort_index()\n",
    "    sorted_valid = valid_df.sort_index()\n",
    "    sorted_train.to_csv(TRAIN_CSV, index=False)\n",
    "    sorted_valid.to_csv(VALID_CSV, index=False)\n",
    "    \n",
    "split_to_train_valid_dfs(df, [TRAIN_CSV, VALID_CSV])\n",
    "\n"
   ]
  },
  {
   "cell_type": "code",
   "execution_count": 5,
   "metadata": {
    "ExecuteTime": {
     "end_time": "2024-06-07T22:24:44.226792600Z",
     "start_time": "2024-06-07T22:24:44.165467500Z"
    },
    "tags": []
   },
   "outputs": [
    {
     "name": "stdout",
     "output_type": "stream",
     "text": [
      "GPU is available. \n"
     ]
    }
   ],
   "source": [
    "if torch.cuda.is_available():\n",
    "    device = torch.device(\"cuda\")\n",
    "    print(\"GPU is available. \")\n",
    "else:\n",
    "    device = torch.device(\"cpu\")\n",
    "    print(\"GPU is not available, using CPU instead.\")"
   ]
  },
  {
   "cell_type": "code",
   "execution_count": 6,
   "metadata": {
    "ExecuteTime": {
     "end_time": "2024-06-07T22:24:44.229398200Z",
     "start_time": "2024-06-07T22:24:44.228893300Z"
    },
    "tags": []
   },
   "outputs": [],
   "source": [
    "\n",
    "def create_experiment_dir(experiment_name, experiment_dir: str = EXPERIMENT_DIR):\n",
    "    # Check if the directory exists and create it if it doesn't\n",
    "    if experiment_name not in os.listdir(experiment_dir):\n",
    "        os.makedirs(os.path.join(experiment_dir, experiment_name))\n",
    "        print(f\"Directory {experiment_name} created.\")\n",
    "    else:\n",
    "        print(f\"Directory {experiment_name} already exists.\")    "
   ]
  },
  {
   "cell_type": "code",
   "execution_count": 7,
   "metadata": {
    "ExecuteTime": {
     "end_time": "2024-06-07T22:24:44.233776400Z",
     "start_time": "2024-06-07T22:24:44.230599200Z"
    },
    "tags": []
   },
   "outputs": [],
   "source": [
    "experiment_name = \"competing_ud_0607\""
   ]
  },
  {
   "cell_type": "code",
   "execution_count": 8,
   "metadata": {
    "ExecuteTime": {
     "end_time": "2024-06-07T22:25:09.564862700Z",
     "start_time": "2024-06-07T22:24:44.242466200Z"
    },
    "tags": []
   },
   "outputs": [
    {
     "name": "stdout",
     "output_type": "stream",
     "text": [
      "Directory competing_ud_0607 already exists.\n",
      "Length of Train: 4420\n",
      "Length of Valid: 1105\n",
      "ModifiedDeepLabV3(\n",
      "  (backbone): IntermediateLayerGetter(\n",
      "    (conv1): Conv2d(1, 64, kernel_size=(7, 7), stride=(2, 2), padding=(3, 3))\n",
      "    (bn1): BatchNorm2d(64, eps=1e-05, momentum=0.1, affine=True, track_running_stats=True)\n",
      "    (relu): ReLU(inplace=True)\n",
      "    (maxpool): MaxPool2d(kernel_size=3, stride=2, padding=1, dilation=1, ceil_mode=False)\n",
      "    (layer1): Sequential(\n",
      "      (0): Bottleneck(\n",
      "        (conv1): Conv2d(64, 64, kernel_size=(1, 1), stride=(1, 1), bias=False)\n",
      "        (bn1): BatchNorm2d(64, eps=1e-05, momentum=0.1, affine=True, track_running_stats=True)\n",
      "        (conv2): Conv2d(64, 64, kernel_size=(3, 3), stride=(1, 1), padding=(1, 1), bias=False)\n",
      "        (bn2): BatchNorm2d(64, eps=1e-05, momentum=0.1, affine=True, track_running_stats=True)\n",
      "        (conv3): Conv2d(64, 256, kernel_size=(1, 1), stride=(1, 1), bias=False)\n",
      "        (bn3): BatchNorm2d(256, eps=1e-05, momentum=0.1, affine=True, track_running_stats=True)\n",
      "        (relu): ReLU(inplace=True)\n",
      "        (downsample): Sequential(\n",
      "          (0): Conv2d(64, 256, kernel_size=(1, 1), stride=(1, 1), bias=False)\n",
      "          (1): BatchNorm2d(256, eps=1e-05, momentum=0.1, affine=True, track_running_stats=True)\n",
      "        )\n",
      "      )\n",
      "      (1): Bottleneck(\n",
      "        (conv1): Conv2d(256, 64, kernel_size=(1, 1), stride=(1, 1), bias=False)\n",
      "        (bn1): BatchNorm2d(64, eps=1e-05, momentum=0.1, affine=True, track_running_stats=True)\n",
      "        (conv2): Conv2d(64, 64, kernel_size=(3, 3), stride=(1, 1), padding=(1, 1), bias=False)\n",
      "        (bn2): BatchNorm2d(64, eps=1e-05, momentum=0.1, affine=True, track_running_stats=True)\n",
      "        (conv3): Conv2d(64, 256, kernel_size=(1, 1), stride=(1, 1), bias=False)\n",
      "        (bn3): BatchNorm2d(256, eps=1e-05, momentum=0.1, affine=True, track_running_stats=True)\n",
      "        (relu): ReLU(inplace=True)\n",
      "      )\n",
      "      (2): Bottleneck(\n",
      "        (conv1): Conv2d(256, 64, kernel_size=(1, 1), stride=(1, 1), bias=False)\n",
      "        (bn1): BatchNorm2d(64, eps=1e-05, momentum=0.1, affine=True, track_running_stats=True)\n",
      "        (conv2): Conv2d(64, 64, kernel_size=(3, 3), stride=(1, 1), padding=(1, 1), bias=False)\n",
      "        (bn2): BatchNorm2d(64, eps=1e-05, momentum=0.1, affine=True, track_running_stats=True)\n",
      "        (conv3): Conv2d(64, 256, kernel_size=(1, 1), stride=(1, 1), bias=False)\n",
      "        (bn3): BatchNorm2d(256, eps=1e-05, momentum=0.1, affine=True, track_running_stats=True)\n",
      "        (relu): ReLU(inplace=True)\n",
      "      )\n",
      "    )\n",
      "    (layer2): Sequential(\n",
      "      (0): Bottleneck(\n",
      "        (conv1): Conv2d(256, 128, kernel_size=(1, 1), stride=(1, 1), bias=False)\n",
      "        (bn1): BatchNorm2d(128, eps=1e-05, momentum=0.1, affine=True, track_running_stats=True)\n",
      "        (conv2): Conv2d(128, 128, kernel_size=(3, 3), stride=(2, 2), padding=(1, 1), bias=False)\n",
      "        (bn2): BatchNorm2d(128, eps=1e-05, momentum=0.1, affine=True, track_running_stats=True)\n",
      "        (conv3): Conv2d(128, 512, kernel_size=(1, 1), stride=(1, 1), bias=False)\n",
      "        (bn3): BatchNorm2d(512, eps=1e-05, momentum=0.1, affine=True, track_running_stats=True)\n",
      "        (relu): ReLU(inplace=True)\n",
      "        (downsample): Sequential(\n",
      "          (0): Conv2d(256, 512, kernel_size=(1, 1), stride=(2, 2), bias=False)\n",
      "          (1): BatchNorm2d(512, eps=1e-05, momentum=0.1, affine=True, track_running_stats=True)\n",
      "        )\n",
      "      )\n",
      "      (1): Bottleneck(\n",
      "        (conv1): Conv2d(512, 128, kernel_size=(1, 1), stride=(1, 1), bias=False)\n",
      "        (bn1): BatchNorm2d(128, eps=1e-05, momentum=0.1, affine=True, track_running_stats=True)\n",
      "        (conv2): Conv2d(128, 128, kernel_size=(3, 3), stride=(1, 1), padding=(1, 1), bias=False)\n",
      "        (bn2): BatchNorm2d(128, eps=1e-05, momentum=0.1, affine=True, track_running_stats=True)\n",
      "        (conv3): Conv2d(128, 512, kernel_size=(1, 1), stride=(1, 1), bias=False)\n",
      "        (bn3): BatchNorm2d(512, eps=1e-05, momentum=0.1, affine=True, track_running_stats=True)\n",
      "        (relu): ReLU(inplace=True)\n",
      "      )\n",
      "      (2): Bottleneck(\n",
      "        (conv1): Conv2d(512, 128, kernel_size=(1, 1), stride=(1, 1), bias=False)\n",
      "        (bn1): BatchNorm2d(128, eps=1e-05, momentum=0.1, affine=True, track_running_stats=True)\n",
      "        (conv2): Conv2d(128, 128, kernel_size=(3, 3), stride=(1, 1), padding=(1, 1), bias=False)\n",
      "        (bn2): BatchNorm2d(128, eps=1e-05, momentum=0.1, affine=True, track_running_stats=True)\n",
      "        (conv3): Conv2d(128, 512, kernel_size=(1, 1), stride=(1, 1), bias=False)\n",
      "        (bn3): BatchNorm2d(512, eps=1e-05, momentum=0.1, affine=True, track_running_stats=True)\n",
      "        (relu): ReLU(inplace=True)\n",
      "      )\n",
      "      (3): Bottleneck(\n",
      "        (conv1): Conv2d(512, 128, kernel_size=(1, 1), stride=(1, 1), bias=False)\n",
      "        (bn1): BatchNorm2d(128, eps=1e-05, momentum=0.1, affine=True, track_running_stats=True)\n",
      "        (conv2): Conv2d(128, 128, kernel_size=(3, 3), stride=(1, 1), padding=(1, 1), bias=False)\n",
      "        (bn2): BatchNorm2d(128, eps=1e-05, momentum=0.1, affine=True, track_running_stats=True)\n",
      "        (conv3): Conv2d(128, 512, kernel_size=(1, 1), stride=(1, 1), bias=False)\n",
      "        (bn3): BatchNorm2d(512, eps=1e-05, momentum=0.1, affine=True, track_running_stats=True)\n",
      "        (relu): ReLU(inplace=True)\n",
      "      )\n",
      "    )\n",
      "    (layer3): Sequential(\n",
      "      (0): Bottleneck(\n",
      "        (conv1): Conv2d(512, 256, kernel_size=(1, 1), stride=(1, 1), bias=False)\n",
      "        (bn1): BatchNorm2d(256, eps=1e-05, momentum=0.1, affine=True, track_running_stats=True)\n",
      "        (conv2): Conv2d(256, 256, kernel_size=(3, 3), stride=(1, 1), padding=(1, 1), bias=False)\n",
      "        (bn2): BatchNorm2d(256, eps=1e-05, momentum=0.1, affine=True, track_running_stats=True)\n",
      "        (conv3): Conv2d(256, 1024, kernel_size=(1, 1), stride=(1, 1), bias=False)\n",
      "        (bn3): BatchNorm2d(1024, eps=1e-05, momentum=0.1, affine=True, track_running_stats=True)\n",
      "        (relu): ReLU(inplace=True)\n",
      "        (downsample): Sequential(\n",
      "          (0): Conv2d(512, 1024, kernel_size=(1, 1), stride=(1, 1), bias=False)\n",
      "          (1): BatchNorm2d(1024, eps=1e-05, momentum=0.1, affine=True, track_running_stats=True)\n",
      "        )\n",
      "      )\n",
      "      (1): Bottleneck(\n",
      "        (conv1): Conv2d(1024, 256, kernel_size=(1, 1), stride=(1, 1), bias=False)\n",
      "        (bn1): BatchNorm2d(256, eps=1e-05, momentum=0.1, affine=True, track_running_stats=True)\n",
      "        (conv2): Conv2d(256, 256, kernel_size=(3, 3), stride=(1, 1), padding=(2, 2), dilation=(2, 2), bias=False)\n",
      "        (bn2): BatchNorm2d(256, eps=1e-05, momentum=0.1, affine=True, track_running_stats=True)\n",
      "        (conv3): Conv2d(256, 1024, kernel_size=(1, 1), stride=(1, 1), bias=False)\n",
      "        (bn3): BatchNorm2d(1024, eps=1e-05, momentum=0.1, affine=True, track_running_stats=True)\n",
      "        (relu): ReLU(inplace=True)\n",
      "      )\n",
      "      (2): Bottleneck(\n",
      "        (conv1): Conv2d(1024, 256, kernel_size=(1, 1), stride=(1, 1), bias=False)\n",
      "        (bn1): BatchNorm2d(256, eps=1e-05, momentum=0.1, affine=True, track_running_stats=True)\n",
      "        (conv2): Conv2d(256, 256, kernel_size=(3, 3), stride=(1, 1), padding=(2, 2), dilation=(2, 2), bias=False)\n",
      "        (bn2): BatchNorm2d(256, eps=1e-05, momentum=0.1, affine=True, track_running_stats=True)\n",
      "        (conv3): Conv2d(256, 1024, kernel_size=(1, 1), stride=(1, 1), bias=False)\n",
      "        (bn3): BatchNorm2d(1024, eps=1e-05, momentum=0.1, affine=True, track_running_stats=True)\n",
      "        (relu): ReLU(inplace=True)\n",
      "      )\n",
      "      (3): Bottleneck(\n",
      "        (conv1): Conv2d(1024, 256, kernel_size=(1, 1), stride=(1, 1), bias=False)\n",
      "        (bn1): BatchNorm2d(256, eps=1e-05, momentum=0.1, affine=True, track_running_stats=True)\n",
      "        (conv2): Conv2d(256, 256, kernel_size=(3, 3), stride=(1, 1), padding=(2, 2), dilation=(2, 2), bias=False)\n",
      "        (bn2): BatchNorm2d(256, eps=1e-05, momentum=0.1, affine=True, track_running_stats=True)\n",
      "        (conv3): Conv2d(256, 1024, kernel_size=(1, 1), stride=(1, 1), bias=False)\n",
      "        (bn3): BatchNorm2d(1024, eps=1e-05, momentum=0.1, affine=True, track_running_stats=True)\n",
      "        (relu): ReLU(inplace=True)\n",
      "      )\n",
      "      (4): Bottleneck(\n",
      "        (conv1): Conv2d(1024, 256, kernel_size=(1, 1), stride=(1, 1), bias=False)\n",
      "        (bn1): BatchNorm2d(256, eps=1e-05, momentum=0.1, affine=True, track_running_stats=True)\n",
      "        (conv2): Conv2d(256, 256, kernel_size=(3, 3), stride=(1, 1), padding=(2, 2), dilation=(2, 2), bias=False)\n",
      "        (bn2): BatchNorm2d(256, eps=1e-05, momentum=0.1, affine=True, track_running_stats=True)\n",
      "        (conv3): Conv2d(256, 1024, kernel_size=(1, 1), stride=(1, 1), bias=False)\n",
      "        (bn3): BatchNorm2d(1024, eps=1e-05, momentum=0.1, affine=True, track_running_stats=True)\n",
      "        (relu): ReLU(inplace=True)\n",
      "      )\n",
      "      (5): Bottleneck(\n",
      "        (conv1): Conv2d(1024, 256, kernel_size=(1, 1), stride=(1, 1), bias=False)\n",
      "        (bn1): BatchNorm2d(256, eps=1e-05, momentum=0.1, affine=True, track_running_stats=True)\n",
      "        (conv2): Conv2d(256, 256, kernel_size=(3, 3), stride=(1, 1), padding=(2, 2), dilation=(2, 2), bias=False)\n",
      "        (bn2): BatchNorm2d(256, eps=1e-05, momentum=0.1, affine=True, track_running_stats=True)\n",
      "        (conv3): Conv2d(256, 1024, kernel_size=(1, 1), stride=(1, 1), bias=False)\n",
      "        (bn3): BatchNorm2d(1024, eps=1e-05, momentum=0.1, affine=True, track_running_stats=True)\n",
      "        (relu): ReLU(inplace=True)\n",
      "      )\n",
      "    )\n",
      "    (layer4): Sequential(\n",
      "      (0): Bottleneck(\n",
      "        (conv1): Conv2d(1024, 512, kernel_size=(1, 1), stride=(1, 1), bias=False)\n",
      "        (bn1): BatchNorm2d(512, eps=1e-05, momentum=0.1, affine=True, track_running_stats=True)\n",
      "        (conv2): Conv2d(512, 512, kernel_size=(3, 3), stride=(1, 1), padding=(2, 2), dilation=(2, 2), bias=False)\n",
      "        (bn2): BatchNorm2d(512, eps=1e-05, momentum=0.1, affine=True, track_running_stats=True)\n",
      "        (conv3): Conv2d(512, 2048, kernel_size=(1, 1), stride=(1, 1), bias=False)\n",
      "        (bn3): BatchNorm2d(2048, eps=1e-05, momentum=0.1, affine=True, track_running_stats=True)\n",
      "        (relu): ReLU(inplace=True)\n",
      "        (downsample): Sequential(\n",
      "          (0): Conv2d(1024, 2048, kernel_size=(1, 1), stride=(1, 1), bias=False)\n",
      "          (1): BatchNorm2d(2048, eps=1e-05, momentum=0.1, affine=True, track_running_stats=True)\n",
      "        )\n",
      "      )\n",
      "      (1): Bottleneck(\n",
      "        (conv1): Conv2d(2048, 512, kernel_size=(1, 1), stride=(1, 1), bias=False)\n",
      "        (bn1): BatchNorm2d(512, eps=1e-05, momentum=0.1, affine=True, track_running_stats=True)\n",
      "        (conv2): Conv2d(512, 512, kernel_size=(3, 3), stride=(1, 1), padding=(4, 4), dilation=(4, 4), bias=False)\n",
      "        (bn2): BatchNorm2d(512, eps=1e-05, momentum=0.1, affine=True, track_running_stats=True)\n",
      "        (conv3): Conv2d(512, 2048, kernel_size=(1, 1), stride=(1, 1), bias=False)\n",
      "        (bn3): BatchNorm2d(2048, eps=1e-05, momentum=0.1, affine=True, track_running_stats=True)\n",
      "        (relu): ReLU(inplace=True)\n",
      "      )\n",
      "      (2): Bottleneck(\n",
      "        (conv1): Conv2d(2048, 512, kernel_size=(1, 1), stride=(1, 1), bias=False)\n",
      "        (bn1): BatchNorm2d(512, eps=1e-05, momentum=0.1, affine=True, track_running_stats=True)\n",
      "        (conv2): Conv2d(512, 512, kernel_size=(3, 3), stride=(1, 1), padding=(4, 4), dilation=(4, 4), bias=False)\n",
      "        (bn2): BatchNorm2d(512, eps=1e-05, momentum=0.1, affine=True, track_running_stats=True)\n",
      "        (conv3): Conv2d(512, 2048, kernel_size=(1, 1), stride=(1, 1), bias=False)\n",
      "        (bn3): BatchNorm2d(2048, eps=1e-05, momentum=0.1, affine=True, track_running_stats=True)\n",
      "        (relu): ReLU(inplace=True)\n",
      "      )\n",
      "    )\n",
      "  )\n",
      "  (classifier): DeepLabHead(\n",
      "    (0): ASPP(\n",
      "      (convs): ModuleList(\n",
      "        (0): Sequential(\n",
      "          (0): Conv2d(2048, 256, kernel_size=(1, 1), stride=(1, 1), bias=False)\n",
      "          (1): BatchNorm2d(256, eps=1e-05, momentum=0.1, affine=True, track_running_stats=True)\n",
      "          (2): ReLU()\n",
      "        )\n",
      "        (1): ASPPConv(\n",
      "          (0): Conv2d(2048, 256, kernel_size=(3, 3), stride=(1, 1), padding=(12, 12), dilation=(12, 12), bias=False)\n",
      "          (1): BatchNorm2d(256, eps=1e-05, momentum=0.1, affine=True, track_running_stats=True)\n",
      "          (2): ReLU()\n",
      "        )\n",
      "        (2): ASPPConv(\n",
      "          (0): Conv2d(2048, 256, kernel_size=(3, 3), stride=(1, 1), padding=(24, 24), dilation=(24, 24), bias=False)\n",
      "          (1): BatchNorm2d(256, eps=1e-05, momentum=0.1, affine=True, track_running_stats=True)\n",
      "          (2): ReLU()\n",
      "        )\n",
      "        (3): ASPPConv(\n",
      "          (0): Conv2d(2048, 256, kernel_size=(3, 3), stride=(1, 1), padding=(36, 36), dilation=(36, 36), bias=False)\n",
      "          (1): BatchNorm2d(256, eps=1e-05, momentum=0.1, affine=True, track_running_stats=True)\n",
      "          (2): ReLU()\n",
      "        )\n",
      "        (4): ASPPPooling(\n",
      "          (0): AdaptiveAvgPool2d(output_size=1)\n",
      "          (1): Conv2d(2048, 256, kernel_size=(1, 1), stride=(1, 1), bias=False)\n",
      "          (2): BatchNorm2d(256, eps=1e-05, momentum=0.1, affine=True, track_running_stats=True)\n",
      "          (3): ReLU()\n",
      "        )\n",
      "      )\n",
      "      (project): Sequential(\n",
      "        (0): Conv2d(1280, 256, kernel_size=(1, 1), stride=(1, 1), bias=False)\n",
      "        (1): BatchNorm2d(256, eps=1e-05, momentum=0.1, affine=True, track_running_stats=True)\n",
      "        (2): ReLU()\n",
      "        (3): Dropout(p=0.5, inplace=False)\n",
      "      )\n",
      "    )\n",
      "    (1): Conv2d(256, 256, kernel_size=(3, 3), stride=(1, 1), padding=(1, 1), bias=False)\n",
      "    (2): BatchNorm2d(256, eps=1e-05, momentum=0.1, affine=True, track_running_stats=True)\n",
      "    (3): ReLU()\n",
      "    (4): Conv2d(256, 5, kernel_size=(1, 1), stride=(1, 1))\n",
      "  )\n",
      "  (upsample): Upsample(size=(220, 220), mode='bilinear')\n",
      "  (sigmoid): Sigmoid()\n",
      "  (softmax): Softmax(dim=1)\n",
      ")\n"
     ]
    }
   ],
   "source": [
    "experiment_dir = EXPERIMENT_DIR\n",
    "train_csv = TRAIN_CSV\n",
    "valid_csv = VALID_CSV\n",
    "data_dir = DATA_DIR\n",
    "epochs = 10\n",
    "lr = 1e-5\n",
    "batch_size = 4\n",
    "use_cache = True\n",
    "\n",
    "create_experiment_dir(experiment_name, experiment_dir)\n",
    "experiment_path = f\"{experiment_dir}/{experiment_name}\"\n",
    "\n",
    "train_dataset = SegThorImagesDataset(\n",
    "    patient_idx_file=train_csv,\n",
    "    root_dir=data_dir,\n",
    "    img_crop_size=312,\n",
    "    mask_output_size=220,\n",
    "    cache_size=1\n",
    ")\n",
    "valid_dataset = SegThorImagesDataset(\n",
    "    patient_idx_file=valid_csv,\n",
    "    root_dir=data_dir,\n",
    "    img_crop_size=312,\n",
    "    mask_output_size=220,\n",
    "    cache_size=1\n",
    ")\n",
    "\n",
    "print(f\"Length of Train: {len(train_dataset)}\")\n",
    "print(f\"Length of Valid: {len(valid_dataset)}\")\n",
    "# test \n",
    "# indices = [0, 1, 2, 3]\n",
    "# subset1 = [train_dataset[i] for i in indices]\n",
    "# subset2 = [valid_dataset[i] for i in indices]\n",
    "shuffle = not use_cache\n",
    "train_dl = DataLoader(train_dataset, batch_size=batch_size, shuffle=shuffle)\n",
    "valid_dl = DataLoader(valid_dataset, batch_size=batch_size, shuffle=shuffle)\n",
    "\n",
    "model_1 = SimplifiedUNet(n_channels=1, n_classes=5, dropout=0.2)\n",
    "model_2 = load_deeplab()\n",
    "model_1.to(device), model_2.to(device)\n",
    "\n",
    "optimizer_1 = optim.Adam(model_1.parameters(), lr=lr)\n",
    "optimizer_2 = optim.Adam(model_2.parameters(), lr=lr)\n",
    "\n",
    "scheduler1 = ExponentialLR(optimizer_1, gamma=0.9)\n",
    "scheduler2 = ExponentialLR(optimizer_2, gamma=0.9)\n",
    "\n",
    "generalized_dice = GeneralizedDiceLoss()\n",
    "rl_loss = RectificationLoss()\n"
   ]
  },
  {
   "cell_type": "code",
   "execution_count": null,
   "metadata": {
    "ExecuteTime": {
     "end_time": "2024-06-07T22:25:24.199876600Z",
     "start_time": "2024-06-07T22:25:09.596694700Z"
    },
    "tags": []
   },
   "outputs": [
    {
     "name": "stderr",
     "output_type": "stream",
     "text": [
      "1105it [05:34,  3.30it/s]\n"
     ]
    },
    {
     "name": "stdout",
     "output_type": "stream",
     "text": [
      "\n",
      "        Epoch 1 | Duration: 424.60984230041504\n",
      "            Model 1: Train Loss: 5.126253292031957 | Val Dice by Cat: 0.6527, 0.7435, 0.7443, 0.7443\n",
      "            Model 2: Train Loss: 5.131322152582229 | Val Dice by Cat: 0.4674, 0.3408, 0.3357, 0.3394\n",
      "        \n"
     ]
    },
    {
     "name": "stderr",
     "output_type": "stream",
     "text": [
      "1105it [05:18,  3.47it/s]\n"
     ]
    },
    {
     "name": "stdout",
     "output_type": "stream",
     "text": [
      "\n",
      "        Epoch 2 | Duration: 402.34219670295715\n",
      "            Model 1: Train Loss: 5.031213311588063 | Val Dice by Cat: 0.6739, 0.7660, 0.7732, 0.7689\n",
      "            Model 2: Train Loss: 4.955329379344957 | Val Dice by Cat: 0.6690, 0.6386, 0.6320, 0.6400\n",
      "        \n"
     ]
    },
    {
     "name": "stderr",
     "output_type": "stream",
     "text": [
      "1105it [05:18,  3.47it/s]\n"
     ]
    },
    {
     "name": "stdout",
     "output_type": "stream",
     "text": [
      "\n",
      "        Epoch 3 | Duration: 401.81488728523254\n",
      "            Model 1: Train Loss: 4.992873628970185 | Val Dice by Cat: 0.6911, 0.7906, 0.7935, 0.7957\n",
      "            Model 2: Train Loss: 4.89957345858958 | Val Dice by Cat: 0.7155, 0.6892, 0.6871, 0.6842\n",
      "        \n"
     ]
    },
    {
     "name": "stderr",
     "output_type": "stream",
     "text": [
      "1105it [05:18,  3.47it/s]\n"
     ]
    },
    {
     "name": "stdout",
     "output_type": "stream",
     "text": [
      "\n",
      "        Epoch 4 | Duration: 402.3072712421417\n",
      "            Model 1: Train Loss: 4.965718173549186 | Val Dice by Cat: 0.6920, 0.7928, 0.7928, 0.7949\n",
      "            Model 2: Train Loss: 4.872121592560505 | Val Dice by Cat: 0.7100, 0.6972, 0.6986, 0.6936\n",
      "        \n"
     ]
    },
    {
     "name": "stderr",
     "output_type": "stream",
     "text": [
      "1105it [05:18,  3.47it/s]\n"
     ]
    },
    {
     "name": "stdout",
     "output_type": "stream",
     "text": [
      "\n",
      "        Epoch 5 | Duration: 402.06131625175476\n",
      "            Model 1: Train Loss: 4.945767562313857 | Val Dice by Cat: 0.6951, 0.8000, 0.8000, 0.8000\n",
      "            Model 2: Train Loss: 4.85784853249114 | Val Dice by Cat: 0.7149, 0.6994, 0.6936, 0.6892\n",
      "        \n"
     ]
    },
    {
     "name": "stderr",
     "output_type": "stream",
     "text": [
      "1105it [05:18,  3.47it/s]\n"
     ]
    },
    {
     "name": "stdout",
     "output_type": "stream",
     "text": [
      "\n",
      "        Epoch 6 | Duration: 408.7298743724823\n",
      "            Model 1: Train Loss: 4.93083245376656 | Val Dice by Cat: 0.5337, 0.6000, 0.6000, 0.6000\n",
      "            Model 2: Train Loss: 4.849956423556643 | Val Dice by Cat: 0.7118, 0.6624, 0.6632, 0.6617\n",
      "        \n"
     ]
    },
    {
     "name": "stderr",
     "output_type": "stream",
     "text": [
      "1105it [05:23,  3.41it/s]\n"
     ]
    },
    {
     "name": "stdout",
     "output_type": "stream",
     "text": [
      "\n",
      "        Epoch 7 | Duration: 407.33022475242615\n",
      "            Model 1: Train Loss: 4.918754313110766 | Val Dice by Cat: 0.5151, 0.6000, 0.6000, 0.6000\n",
      "            Model 2: Train Loss: 4.843272192769461 | Val Dice by Cat: 0.7320, 0.6371, 0.6357, 0.6299\n",
      "        \n"
     ]
    },
    {
     "name": "stderr",
     "output_type": "stream",
     "text": [
      "1105it [05:18,  3.47it/s]\n"
     ]
    },
    {
     "name": "stdout",
     "output_type": "stream",
     "text": [
      "\n",
      "        Epoch 8 | Duration: 401.9261426925659\n",
      "            Model 1: Train Loss: 4.909200281686912 | Val Dice by Cat: 0.5087, 0.6000, 0.6000, 0.6000\n",
      "            Model 2: Train Loss: 4.839067875529846 | Val Dice by Cat: 0.7242, 0.6291, 0.6205, 0.6197\n",
      "        \n"
     ]
    },
    {
     "name": "stderr",
     "output_type": "stream",
     "text": [
      "1105it [05:25,  3.40it/s]\n"
     ]
    },
    {
     "name": "stdout",
     "output_type": "stream",
     "text": [
      "\n",
      "        Epoch 9 | Duration: 415.53350162506104\n",
      "            Model 1: Train Loss: 4.900776576132796 | Val Dice by Cat: 0.5308, 0.5971, 0.5964, 0.5986\n",
      "            Model 2: Train Loss: 4.8364067017222965 | Val Dice by Cat: 0.7246, 0.6400, 0.6364, 0.6277\n",
      "        \n"
     ]
    },
    {
     "name": "stderr",
     "output_type": "stream",
     "text": [
      "1105it [05:17,  3.48it/s]\n"
     ]
    },
    {
     "name": "stdout",
     "output_type": "stream",
     "text": [
      "\n",
      "        Epoch 10 | Duration: 401.1580619812012\n",
      "            Model 1: Train Loss: 4.894196593168095 | Val Dice by Cat: 0.4381, 0.4022, 0.4022, 0.4036\n",
      "            Model 2: Train Loss: 4.834384307170885 | Val Dice by Cat: 0.7364, 0.6147, 0.6074, 0.6045\n",
      "        \n"
     ]
    }
   ],
   "source": [
    "from tqdm import tqdm\n",
    "\n",
    "# [ ] TODO: image transformations at dataloader similar to SegTHOR paper, also filtering out slices with no labels\n",
    "# [ ] TODO: final evaluation of winning unet\n",
    "# [ ] TODO: display the examples\n",
    "epoch_train_losses_1, epoch_train_losses_2 = [], []\n",
    "epoch_val_losses_1, epoch_val_losses_2 = [], []\n",
    "for epoch in range(epochs):\n",
    "    epoch_start_time = time.time()\n",
    "    model_1.train()\n",
    "    model_2.train()\n",
    "    running_loss_1, running_loss_2 = 0.0, 0.0\n",
    "    oar_dice_valid_1, oar_dice_valid_2 = [], []\n",
    "\n",
    "    idx_time = epoch_start_time\n",
    "    for idx, sample in tqdm(enumerate(train_dl)):\n",
    "        start_time = time.time()\n",
    "        inputs, targets = sample\n",
    "        inputs = inputs.to(device)\n",
    "        targets = targets.to(device)\n",
    "        output_1, output_2 = model_1(inputs), model_2(inputs)\n",
    "        output_1 = output_1.to(device)\n",
    "        output_2 = output_2.to(device)\n",
    "\n",
    "        output_1_proba, output_2_proba = F.softmax(F.sigmoid(output_1), dim=1), F.softmax(F.sigmoid(output_2), dim=1)\n",
    "        # channels\n",
    "        output_1_channels = rl_loss._probas_to_class_channels(output_1_proba)\n",
    "        output_2_channels = rl_loss._probas_to_class_channels(output_2_proba)\n",
    "        target_channels = rl_loss._targets_to_class_channels(targets).to(device)\n",
    "        # disagreement mask\n",
    "        disagreement_mask = ((output_1_channels == 1) ^ (output_2_channels == 1)).to(torch.int32)\n",
    "        mse_1 = ((output_1_channels - target_channels) ** 2)\n",
    "        mse_2 = ((output_2_channels - target_channels) ** 2)\n",
    "\n",
    "        # mean by channel\n",
    "        masked_mse_1 = (disagreement_mask * mse_1).mean(dim=(-1, -2))\n",
    "        masked_mse_2 = (disagreement_mask * mse_2).mean(dim=(-1, -2))\n",
    "\n",
    "        # weight the channels by size of disagreement mask\n",
    "\n",
    "        weighted_mse_1 = (masked_mse_1 * torch.sum(disagreement_mask, dim=(-1, -2)) / torch.sum(disagreement_mask,\n",
    "                                                                                                dim=(1, 2, 3)).clamp(\n",
    "            1e-6).view(-1, 1)).mean(dim=-1)\n",
    "        weighted_mse_2 = (masked_mse_2 * torch.sum(disagreement_mask, dim=(-1, -2)) / torch.sum(disagreement_mask,\n",
    "                                                                                                dim=(1, 2, 3)).clamp(\n",
    "            1e-6).view(-1, 1)).mean(dim=-1)\n",
    "\n",
    "        # sum over batch\n",
    "        rec_loss_1 = torch.sum(weighted_mse_1)\n",
    "        rec_loss_2 = torch.sum(weighted_mse_2)\n",
    "\n",
    "        dice_1 = generalized_dice(output_1, target_channels)\n",
    "        dice_2 = generalized_dice(output_2, target_channels)\n",
    "        \n",
    "        ce_loss_1 = F.cross_entropy(output_1, target_channels)\n",
    "        ce_loss_2 = F.cross_entropy(output_2, target_channels)\n",
    "        \n",
    "        loss_1 = rec_loss_1 + dice_1 + ce_loss_1\n",
    "        loss_2 = rec_loss_2 + dice_2 + ce_loss_2\n",
    "\n",
    "        optimizer_1.zero_grad(), optimizer_2.zero_grad()\n",
    "        loss_1.backward(), loss_2.backward()\n",
    "        optimizer_1.step(), optimizer_2.step()\n",
    "        running_loss_1 += loss_1.item()\n",
    "        running_loss_2 += loss_2.item()\n",
    "        # if idx % 10 == 0:\n",
    "        #     print(f'Train: {idx}/{len(train_dl)}: {time.time() - idx_time}: Load Time: {start_time - idx_time} : Model Time : {time.time() - start_time}')\n",
    "        idx_time = time.time()\n",
    "    train_loss_1 = running_loss_1 / len(train_dl.dataset)\n",
    "    train_loss_2 = running_loss_2 / len(train_dl.dataset)\n",
    "    epoch_train_losses_1.append(train_loss_1)\n",
    "    epoch_train_losses_2.append(train_loss_2)\n",
    "\n",
    "    model_1.eval()\n",
    "    model_2.eval()\n",
    "\n",
    "    with torch.no_grad():\n",
    "        for idx, sample in enumerate(valid_dl):\n",
    "            start_time = time.time()\n",
    "            inputs, targets = sample\n",
    "            inputs = inputs.to(device)\n",
    "            targets = targets.to(device)\n",
    "            output_1, output_2 = model_1(inputs), model_2(inputs)\n",
    "            # per channel DICE avg\n",
    "            target_channels = rl_loss._targets_to_class_channels(targets).to(device)\n",
    "            predicted_cats_1, predicted_cats_2 = model_1.predict_class_channels(inputs), model_2.predict_class_channels(\n",
    "                inputs)\n",
    "            per_channel_dice_1, per_channel_dice_2 = generalized_dice.dice_per_channel(predicted_cats_1,\n",
    "                                                                                       target_channels.long()), generalized_dice.dice_per_channel(\n",
    "                predicted_cats_2, target_channels.long()) \n",
    "            per_channel_dice_1.to('cpu'), per_channel_dice_2.to('cpu')\n",
    "            oar_dice_valid_1.append(per_channel_dice_1), oar_dice_valid_2.append(per_channel_dice_2)\n",
    "            # if idx % 10 == 0:\n",
    "            #     print(f'Validation: {idx}/{len(valid_dl)}: {time.time() - start_time}')\n",
    "\n",
    "    # calculate per Channel DICE for validation tracking\n",
    "    oar_dice_1, oar_dice_2 = torch.cat(oar_dice_valid_1, dim=0), torch.cat(oar_dice_valid_2, dim=0)\n",
    "    oar_dice_mean_1 = oar_dice_1.mean(dim=(0, 2))\n",
    "    oar_dice_mean_2 = oar_dice_2.mean(dim=(0, 2))\n",
    "\n",
    "    scheduler1.step()\n",
    "    scheduler2.step()\n",
    "    def dice_by_category_str(dice_scores):\n",
    "        scores = dice_scores.tolist()\n",
    "        formatted_scores = [f\"{score:.4f}\" for score in scores]\n",
    "        return \", \".join(formatted_scores)\n",
    "    \n",
    "    print(f\"\"\"\n",
    "        Epoch {epoch + 1} | Duration: {time.time() - epoch_start_time}\n",
    "            Model 1: Train Loss: {train_loss_1} | Val Dice by Cat: {dice_by_category_str(oar_dice_mean_1)}\n",
    "            Model 2: Train Loss: {train_loss_2} | Val Dice by Cat: {dice_by_category_str(oar_dice_mean_2)}\n",
    "        \"\"\")\n",
    "\n",
    "    # checkpoint the unet at each epoch\n",
    "    torch.save({\n",
    "        'epoch': epoch,\n",
    "        'model_state_dict': model_1.state_dict(),\n",
    "        'optimizer_state_dict': optimizer_1.state_dict(),\n",
    "        'train_loss': train_loss_1,\n",
    "        'valid_oar_dice': oar_dice_mean_1\n",
    "    }, f\"{experiment_path}/model_1_checkpoint_epoch_{epoch}.pth\")\n",
    "\n",
    "    torch.save({\n",
    "        'epoch': epoch,\n",
    "        'model_state_dict': model_2.state_dict(),\n",
    "        'optimizer_state_dict': optimizer_2.state_dict(),\n",
    "        'train_loss': train_loss_2,\n",
    "        'valid_oar_dice': oar_dice_mean_2\n",
    "    }, f\"{experiment_path}/model_2_checkpoint_epoch_{epoch}.pth\")"
   ]
  },
  {
   "cell_type": "code",
   "execution_count": 11,
   "metadata": {
    "ExecuteTime": {
     "end_time": "2024-06-07T22:25:24.206252Z",
     "start_time": "2024-06-07T22:25:24.199876600Z"
    }
   },
   "outputs": [
    {
     "data": {
      "image/png": "[encoded data removed]",
      "text/plain": [
       "<Figure size 640x480 with 1 Axes>"
      ]
     },
     "metadata": {},
     "output_type": "display_data"
    }
   ],
   "source": [
    "import matplotlib.pyplot as plt\n",
    "import numpy as np\n",
    "epoches = np.arange(1, 11)\n",
    "plt.figure()\n",
    "plt.plot(epoches, epoch_train_losses_1)\n",
    "plt.plot(epoches, epoch_train_losses_2)\n",
    "plt.legend(['Unet', 'Deeplab'])\n",
    "plt.title('Training Loss vs Epoch')\n",
    "plt.show()"
   ]
  },
  {
   "cell_type": "code",
   "execution_count": null,
   "metadata": {},
   "outputs": [],
   "source": []
  }
 ],
 "metadata": {
  "environment": {
   "kernel": "conda-env-pytorch-pytorch",
   "name": "workbench-notebooks.m121",
   "type": "gcloud",
   "uri": "us-docker.pkg.dev/deeplearning-platform-release/gcr.io/workbench-notebooks:m121"
  },
  "kernelspec": {
   "display_name": "PyTorch 1-13 (Local)",
   "language": "python",
   "name": "conda-env-pytorch-pytorch"
  },
  "language_info": {
   "codemirror_mode": {
    "name": "ipython",
    "version": 3
   },
   "file_extension": ".py",
   "mimetype": "text/x-python",
   "name": "python",
   "nbconvert_exporter": "python",
   "pygments_lexer": "ipython3",
   "version": "3.10.14"
  }
 },
 "nbformat": 4,
 "nbformat_minor": 4
}
