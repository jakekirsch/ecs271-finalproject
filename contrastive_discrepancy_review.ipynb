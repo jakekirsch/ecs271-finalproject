{
 "cells": [
  {
   "cell_type": "code",
   "execution_count": 5,
   "metadata": {},
   "outputs": [],
   "source": [
    "import torch \n",
    "from torch import nn\n",
    "\n",
    "softmax = nn.Softmax()\n",
    "\n",
    "Y_a = torch.randn((5,5))\n",
    "Y_b = torch.randn((5, 5))"
   ]
  },
  {
   "cell_type": "code",
   "execution_count": 6,
   "metadata": {},
   "outputs": [
    {
     "name": "stderr",
     "output_type": "stream",
     "text": [
      "/Users/jkirsch/.pyenv/versions/ecs_fp/lib/python3.12/site-packages/torch/nn/modules/module.py:1532: UserWarning: Implicit dimension choice for softmax has been deprecated. Change the call to include dim=X as an argument.\n",
      "  return self._call_impl(*args, **kwargs)\n"
     ]
    },
    {
     "data": {
      "text/plain": [
       "tensor([[0.7666, 0.0433, 0.0945, 0.0229, 0.0727],\n",
       "        [0.0489, 0.5317, 0.1392, 0.1268, 0.1533],\n",
       "        [0.3564, 0.2391, 0.1278, 0.1487, 0.1281],\n",
       "        [0.0995, 0.1152, 0.0899, 0.2497, 0.4456],\n",
       "        [0.2687, 0.0579, 0.1472, 0.1801, 0.3461]])"
      ]
     },
     "execution_count": 6,
     "metadata": {},
     "output_type": "execute_result"
    }
   ],
   "source": [
    "# binarization\n",
    "softmax(Y_a, dim)"
   ]
  },
  {
   "cell_type": "code",
   "execution_count": 7,
   "metadata": {},
   "outputs": [
    {
     "data": {
      "text/plain": [
       "tensor([[0.8571, 0.2532, 0.4251, 0.1519, 0.3627],\n",
       "        [0.2801, 0.8088, 0.5255, 0.5022, 0.5495],\n",
       "        [0.4610, 0.3647, 0.2347, 0.2630, 0.2352],\n",
       "        [0.6058, 0.6403, 0.5814, 0.7941, 0.8731],\n",
       "        [0.7053, 0.3404, 0.5674, 0.6160, 0.7550]])"
      ]
     },
     "execution_count": 7,
     "metadata": {},
     "output_type": "execute_result"
    }
   ],
   "source": [
    "sigmoid = nn.Sigmoid()\n",
    "\n",
    "sigmoid(Y_a)"
   ]
  },
  {
   "cell_type": "code",
   "execution_count": 9,
   "metadata": {},
   "outputs": [],
   "source": [
    "# sigmoid squashes to [0, 1] but not normalized probabilities\n",
    "# do a pass that normalizes across channels using softmax \n",
    "# update Dice loss accordingly\n",
    "preds = torch.randn([3, 5, 25, 25])"
   ]
  },
  {
   "cell_type": "code",
   "execution_count": 10,
   "metadata": {},
   "outputs": [],
   "source": [
    "preds = torch.randn([3, 5, 25, 25])\n",
    "sigmoid = nn.Sigmoid()\n",
    "softmax_channel = nn.Softmax(dim=1) # across channel dim \n",
    "\n",
    "preds = sigmoid(preds)\n",
    "preds_proba = softmax_channel(preds)\n",
    "\n"
   ]
  },
  {
   "cell_type": "code",
   "execution_count": 12,
   "metadata": {},
   "outputs": [
    {
     "data": {
      "text/plain": [
       "tensor([[[1.0000, 1.0000, 1.0000,  ..., 1.0000, 1.0000, 1.0000],\n",
       "         [1.0000, 1.0000, 1.0000,  ..., 1.0000, 1.0000, 1.0000],\n",
       "         [1.0000, 1.0000, 1.0000,  ..., 1.0000, 1.0000, 1.0000],\n",
       "         ...,\n",
       "         [1.0000, 1.0000, 1.0000,  ..., 1.0000, 1.0000, 1.0000],\n",
       "         [1.0000, 1.0000, 1.0000,  ..., 1.0000, 1.0000, 1.0000],\n",
       "         [1.0000, 1.0000, 1.0000,  ..., 1.0000, 1.0000, 1.0000]],\n",
       "\n",
       "        [[1.0000, 1.0000, 1.0000,  ..., 1.0000, 1.0000, 1.0000],\n",
       "         [1.0000, 1.0000, 1.0000,  ..., 1.0000, 1.0000, 1.0000],\n",
       "         [1.0000, 1.0000, 1.0000,  ..., 1.0000, 1.0000, 1.0000],\n",
       "         ...,\n",
       "         [1.0000, 1.0000, 1.0000,  ..., 1.0000, 1.0000, 1.0000],\n",
       "         [1.0000, 1.0000, 1.0000,  ..., 1.0000, 1.0000, 1.0000],\n",
       "         [1.0000, 1.0000, 1.0000,  ..., 1.0000, 1.0000, 1.0000]],\n",
       "\n",
       "        [[1.0000, 1.0000, 1.0000,  ..., 1.0000, 1.0000, 1.0000],\n",
       "         [1.0000, 1.0000, 1.0000,  ..., 1.0000, 1.0000, 1.0000],\n",
       "         [1.0000, 1.0000, 1.0000,  ..., 1.0000, 1.0000, 1.0000],\n",
       "         ...,\n",
       "         [1.0000, 1.0000, 1.0000,  ..., 1.0000, 1.0000, 1.0000],\n",
       "         [1.0000, 1.0000, 1.0000,  ..., 1.0000, 1.0000, 1.0000],\n",
       "         [1.0000, 1.0000, 1.0000,  ..., 1.0000, 1.0000, 1.0000]]])"
      ]
     },
     "execution_count": 12,
     "metadata": {},
     "output_type": "execute_result"
    }
   ],
   "source": [
    "preds_proba.sum(dim=1)"
   ]
  },
  {
   "cell_type": "code",
   "execution_count": 14,
   "metadata": {},
   "outputs": [
    {
     "data": {
      "text/plain": [
       "torch.Size([3, 5, 25, 25])"
      ]
     },
     "execution_count": 14,
     "metadata": {},
     "output_type": "execute_result"
    }
   ],
   "source": [
    "preds_proba.shape"
   ]
  },
  {
   "cell_type": "code",
   "execution_count": 15,
   "metadata": {},
   "outputs": [
    {
     "data": {
      "text/plain": [
       "torch.Size([3, 25, 25])"
      ]
     },
     "execution_count": 15,
     "metadata": {},
     "output_type": "execute_result"
    }
   ],
   "source": [
    "max_values, max_indices = torch.max(preds_proba, dim=1)\n",
    "\n",
    "max_indices.shape"
   ]
  },
  {
   "cell_type": "code",
   "execution_count": 17,
   "metadata": {},
   "outputs": [
    {
     "data": {
      "text/plain": [
       "tensor([[1, 4, 4, 0, 0, 4, 4, 1, 1, 2, 3, 1, 1, 2, 1, 1, 1, 1, 1, 2, 3, 2, 3, 3,\n",
       "         1],\n",
       "        [1, 1, 0, 4, 4, 0, 1, 3, 1, 2, 0, 2, 3, 3, 4, 4, 1, 0, 1, 2, 4, 3, 3, 4,\n",
       "         3],\n",
       "        [0, 1, 1, 3, 3, 3, 4, 4, 4, 2, 4, 0, 2, 3, 0, 2, 1, 4, 3, 1, 0, 1, 1, 4,\n",
       "         0],\n",
       "        [1, 4, 0, 2, 0, 2, 0, 4, 3, 4, 4, 4, 2, 0, 0, 1, 2, 2, 3, 0, 1, 4, 1, 2,\n",
       "         1],\n",
       "        [1, 3, 2, 4, 1, 3, 3, 3, 4, 2, 2, 3, 2, 0, 0, 1, 0, 1, 3, 2, 1, 2, 1, 0,\n",
       "         2],\n",
       "        [4, 0, 4, 1, 3, 2, 3, 4, 4, 4, 2, 3, 4, 2, 1, 0, 1, 2, 0, 3, 0, 0, 4, 0,\n",
       "         0],\n",
       "        [0, 2, 3, 1, 4, 0, 4, 3, 4, 3, 1, 4, 2, 0, 2, 3, 3, 2, 2, 2, 0, 1, 4, 0,\n",
       "         2],\n",
       "        [4, 2, 0, 0, 2, 2, 1, 3, 4, 1, 0, 1, 0, 0, 4, 4, 2, 3, 0, 1, 0, 2, 2, 3,\n",
       "         2],\n",
       "        [0, 3, 3, 1, 3, 3, 4, 4, 2, 3, 0, 1, 2, 0, 2, 2, 4, 0, 2, 1, 3, 0, 1, 0,\n",
       "         0],\n",
       "        [2, 4, 3, 2, 3, 0, 0, 0, 3, 1, 1, 2, 4, 4, 4, 4, 4, 1, 1, 4, 0, 4, 3, 3,\n",
       "         4],\n",
       "        [1, 4, 0, 0, 1, 4, 1, 2, 1, 3, 3, 4, 0, 1, 2, 3, 2, 2, 2, 3, 2, 4, 0, 2,\n",
       "         3],\n",
       "        [1, 0, 1, 0, 0, 2, 2, 4, 3, 4, 3, 1, 4, 3, 1, 0, 0, 0, 2, 1, 4, 3, 1, 4,\n",
       "         3],\n",
       "        [0, 1, 3, 0, 2, 2, 1, 1, 3, 3, 4, 4, 2, 2, 1, 1, 0, 3, 0, 2, 4, 3, 3, 0,\n",
       "         3],\n",
       "        [3, 2, 1, 0, 0, 3, 0, 0, 3, 2, 3, 3, 0, 0, 2, 4, 2, 0, 0, 4, 1, 2, 0, 3,\n",
       "         1],\n",
       "        [1, 1, 4, 4, 0, 3, 0, 3, 4, 3, 4, 3, 0, 4, 4, 4, 4, 0, 2, 0, 3, 3, 0, 2,\n",
       "         3],\n",
       "        [0, 4, 3, 1, 3, 4, 0, 0, 0, 4, 4, 2, 0, 3, 3, 3, 1, 0, 0, 1, 1, 4, 2, 4,\n",
       "         4],\n",
       "        [2, 1, 1, 1, 1, 1, 2, 4, 2, 2, 4, 1, 2, 4, 4, 2, 2, 0, 2, 2, 0, 0, 4, 4,\n",
       "         3],\n",
       "        [0, 4, 0, 1, 2, 4, 3, 4, 4, 2, 3, 2, 0, 3, 2, 1, 2, 3, 2, 0, 1, 0, 0, 3,\n",
       "         3],\n",
       "        [3, 0, 2, 2, 3, 0, 0, 2, 3, 4, 0, 3, 2, 4, 2, 2, 0, 2, 2, 2, 4, 3, 1, 4,\n",
       "         2],\n",
       "        [4, 4, 1, 1, 2, 3, 1, 4, 4, 3, 2, 1, 4, 4, 2, 2, 4, 4, 1, 1, 1, 2, 2, 4,\n",
       "         4],\n",
       "        [3, 0, 2, 0, 4, 3, 4, 2, 0, 1, 4, 0, 3, 2, 1, 0, 3, 2, 0, 3, 1, 1, 0, 2,\n",
       "         0],\n",
       "        [2, 1, 3, 3, 1, 1, 4, 3, 1, 1, 2, 0, 2, 3, 2, 3, 2, 1, 0, 0, 1, 3, 3, 4,\n",
       "         1],\n",
       "        [2, 4, 1, 2, 3, 3, 4, 0, 4, 3, 1, 1, 3, 0, 0, 0, 4, 0, 1, 0, 1, 0, 0, 2,\n",
       "         2],\n",
       "        [2, 4, 4, 3, 0, 0, 4, 1, 3, 2, 3, 1, 4, 0, 4, 4, 1, 2, 4, 2, 2, 3, 1, 4,\n",
       "         2],\n",
       "        [3, 0, 0, 1, 0, 2, 4, 2, 1, 3, 0, 0, 2, 1, 2, 1, 1, 1, 0, 0, 1, 0, 1, 0,\n",
       "         4]])"
      ]
     },
     "execution_count": 17,
     "metadata": {},
     "output_type": "execute_result"
    }
   ],
   "source": [
    "max_indices[0, :, :]"
   ]
  },
  {
   "cell_type": "code",
   "execution_count": null,
   "metadata": {},
   "outputs": [],
   "source": []
  }
 ],
 "metadata": {
  "kernelspec": {
   "display_name": "ecs_fp",
   "language": "python",
   "name": "python3"
  },
  "language_info": {
   "codemirror_mode": {
    "name": "ipython",
    "version": 3
   },
   "file_extension": ".py",
   "mimetype": "text/x-python",
   "name": "python",
   "nbconvert_exporter": "python",
   "pygments_lexer": "ipython3",
   "version": "3.12.0"
  }
 },
 "nbformat": 4,
 "nbformat_minor": 2
}
