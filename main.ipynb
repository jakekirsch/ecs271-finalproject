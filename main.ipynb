{
 "cells": [
  {
   "cell_type": "code",
   "execution_count": 1,
   "metadata": {},
   "outputs": [],
   "source": [
    "\n",
    "import torch\n",
    "import torch.nn as nn\n",
    "from utils.image_utils import load_dataset\n",
    "import torch.nn.functional as F\n",
    "import torch.optim as optim\n",
    "from torch.utils.data import Dataset, DataLoader\n",
    "\n",
    "from unet.unet_model_tianyang import CustomDataset\n",
    "from nibabel.testing import data_path \n",
    "from matplotlib import pyplot as plt\n",
    "import nibabel as nib"
   ]
  },
  {
   "cell_type": "code",
   "execution_count": 2,
   "metadata": {},
   "outputs": [
    {
     "name": "stdout",
     "output_type": "stream",
     "text": [
      "GPU is not available, using CPU instead.\n"
     ]
    }
   ],
   "source": [
    "\n",
    "if torch.cuda.is_available():\n",
    "    device = torch.device(\"cuda\")\n",
    "    print(\"GPU is available. \")\n",
    "else:\n",
    "    device = torch.device(\"cpu\")\n",
    "    print(\"GPU is not available, using CPU instead.\")"
   ]
  },
  {
   "cell_type": "code",
   "execution_count": null,
   "metadata": {},
   "outputs": [],
   "source": [
    "# process data into one tensor\n",
    "from utils.image_utils import get_sample_data, plot_slice\n",
    "x, y = get_sample_data()"
   ]
  },
  {
   "cell_type": "code",
   "execution_count": null,
   "metadata": {},
   "outputs": [],
   "source": [
    "\n",
    "image, label = load_dataset('../data/Patient_01.nii', '../data/GT.nii') #shape(512,512,229)\n",
    "\n",
    "\n",
    "tensor_x = torch.from_numpy(image).float()\n",
    "tensor_y = torch.from_numpy(label).float()\n",
    "X = tensor_x.permute(2, 0, 1).unsqueeze(1)  # x is now (229, 1, 512, 512)\n",
    "Y = tensor_y.permute(2, 0, 1).unsqueeze(1)\n",
    "\n",
    "#cropping function\n",
    "X = F.interpolate(X, size=(256, 256), mode='bilinear', align_corners=False)  # x is now (229, 1, 256, 256) (229, 256, 256)\n",
    "print(X.shape)\n",
    "Y = F.interpolate(Y, size=(256, 256), mode='bilinear', align_corners=False)\n",
    "print(X.shape)\n",
    "\n",
    "dataset = CustomDataset(X, Y)\n",
    "data_loader = DataLoader(dataset, batch_size=16, shuffle=True)\n",
    "\n",
    "model = UNet()\n",
    "criterion = torch.nn.CrossEntropyLoss()  # or any other applicable loss function\n",
    "optimizer = optim.Adam(model.parameters(), lr=0.001)\n",
    "\n",
    "num_epochs = 5  # Number of epochs\n",
    "model.to(device)\n",
    "\n",
    "for epoch in range(num_epochs):\n",
    "    model.train()\n",
    "    running_loss = 0.0\n",
    "    for inputs, targets in data_loader:\n",
    "        inputs = inputs.to(device)\n",
    "        outputs = model(inputs)\n",
    "        outputs = outputs.cpu()\n",
    "        #predictions = torch.argmax(outputs, dim=1).float()\n",
    "        loss = criterion(outputs, targets.squeeze().long())\n",
    "        optimizer.zero_grad()\n",
    "        loss.backward()\n",
    "        optimizer.step()\n",
    "        running_loss -= loss.item()\n",
    "        inputs.cpu()\n",
    "\n",
    "    print(f'Epoch {epoch + 1}, Loss: {running_loss / len(data_loader)}')\n",
    "\n",
    "model.cpu()\n"
   ]
  }
 ],
 "metadata": {
  "kernelspec": {
   "display_name": "ecs_fp",
   "language": "python",
   "name": "python3"
  },
  "language_info": {
   "codemirror_mode": {
    "name": "ipython",
    "version": 3
   },
   "file_extension": ".py",
   "mimetype": "text/x-python",
   "name": "python",
   "nbconvert_exporter": "python",
   "pygments_lexer": "ipython3",
   "version": "3.12.0"
  }
 },
 "nbformat": 4,
 "nbformat_minor": 2
}
