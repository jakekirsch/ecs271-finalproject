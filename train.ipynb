{
 "cells": [
  {
   "cell_type": "code",
   "execution_count": 1,
   "metadata": {},
   "outputs": [],
   "source": [
    "from utils.image_utils import plot_XY, gen_index_file\n",
    "from unet.dataset import SegThorImagesDataset\n",
    "import torch\n",
    "from torch.utils.data import DataLoader, random_split\n",
    "from unet.unet_model import UNet\n",
    "from unet.simplified_unet_model import SimplifiedUNet\n",
    "from torch import optim\n",
    "from torch import nn\n",
    "import time\n"
   ]
  },
  {
   "cell_type": "code",
   "execution_count": 2,
   "metadata": {},
   "outputs": [
    {
     "name": "stdout",
     "output_type": "stream",
     "text": [
      "Filename: data/train_patient_idx.csv already exists, skipping gen\n"
     ]
    }
   ],
   "source": [
    "# if index file doesn't exist, generate and save \n",
    "index_file_train = gen_index_file()"
   ]
  },
  {
   "cell_type": "code",
   "execution_count": 3,
   "metadata": {},
   "outputs": [
    {
     "name": "stdout",
     "output_type": "stream",
     "text": [
      "GPU is not available, using CPU instead.\n"
     ]
    }
   ],
   "source": [
    "if torch.cuda.is_available():\n",
    "    device = torch.device(\"cuda\")\n",
    "    print(\"GPU is available. \")\n",
    "else:\n",
    "    device = torch.device(\"cpu\")\n",
    "    print(\"GPU is not available, using CPU instead.\")"
   ]
  },
  {
   "cell_type": "code",
   "execution_count": 4,
   "metadata": {},
   "outputs": [
    {
     "name": "stdout",
     "output_type": "stream",
     "text": [
      "Train: 0/186: 37.88753628730774\n",
      "Epoch 1 | Duration: -74.55666208267212 | Train Loss: 0.008972191682425879 | Validation Loss: 0.033516620067839925\n",
      "Train: 0/186: 37.97469902038574\n",
      "Epoch 2 | Duration: -75.41443395614624 | Train Loss: 0.008851199380813106 | Validation Loss: 0.03359932087837381\n",
      "Train: 0/186: 37.78674077987671\n",
      "Epoch 3 | Duration: -75.73859000205994 | Train Loss: 0.008726408404688682 | Validation Loss: 0.033706550902508674\n",
      "Train: 0/186: 37.801799297332764\n",
      "Epoch 4 | Duration: -79.12963676452637 | Train Loss: 0.008628254936587426 | Validation Loss: 0.0338451938426241\n",
      "Train: 0/186: 38.45128917694092\n",
      "Epoch 5 | Duration: -78.24546790122986 | Train Loss: 0.008507203030329879 | Validation Loss: 0.03380670446030637\n"
     ]
    }
   ],
   "source": [
    "# define model\n",
    "# define training loop \n",
    "\n",
    "def train_model(data_dir: str = '/home/jupyter/ecs271_data/data/train',\n",
    "                epochs=10,\n",
    "                dropout=0.2,\n",
    "                lr=0.0001):\n",
    "\n",
    "    input_dataset = SegThorImagesDataset(\n",
    "        root_dir=data_dir,\n",
    "        img_crop_size=312, \n",
    "        mask_output_size=220\n",
    "        ) \n",
    "    train_dataset, valid_dataset = random_split(input_dataset, [0.8, 0.2], generator=torch.Generator().manual_seed(42))\n",
    "    train_dl = DataLoader(train_dataset, batch_size=32, shuffle=True)\n",
    "    valid_dl = DataLoader(valid_dataset, batch_size=32, shuffle=True)\n",
    "    \n",
    "    model = SimplifiedUNet(n_channels=1, n_classes=5, dropout=dropout) # 0: no-classification 1: organ, 2: organ, 3: organ, 4: organ\n",
    "\n",
    "    # TODO: loss function that is SegThor paper\n",
    "    criterion = torch.nn.CrossEntropyLoss()  \n",
    "    optimizer = optim.Adam(model.parameters(), lr=lr)\n",
    "    model.to(device)\n",
    "    epoch_train_losses = []\n",
    "    epoch_val_losses = []\n",
    "\n",
    "    # TODO: checkpointing of model\n",
    "    for epoch in range(epochs):\n",
    "        epoch_start_time = time.time()\n",
    "        model.train()\n",
    "        running_loss = 0.0\n",
    "        for idx, sample in enumerate(train_dl):\n",
    "            start_time = time.time()\n",
    "            inputs, targets = sample\n",
    "            inputs = inputs.to(device)\n",
    "            outputs = model(inputs)\n",
    "            outputs = outputs.cpu()\n",
    "            loss = criterion(outputs, targets.long())\n",
    "            optimizer.zero_grad()\n",
    "            loss.backward()\n",
    "            optimizer.step()\n",
    "            running_loss += loss.item() \n",
    "\n",
    "            print(f'Train: {idx}/{len(train_dl)}: {time.time() - start_time}')\n",
    "            break\n",
    "        train_loss = running_loss / len(train_dl)\n",
    "        epoch_train_losses.append(train_loss)\n",
    "\n",
    "        model.eval()\n",
    "        running_val_loss = 0.0\n",
    "        for idx, sample in enumerate(valid_dl):\n",
    "            start_time = time.time()\n",
    "            inputs, targets = sample\n",
    "            inputs=inputs.to(device)\n",
    "            outputs=model(inputs)\n",
    "            val_loss = criterion(outputs, targets.long())\n",
    "            running_val_loss += val_loss.item()\n",
    "            print(f'Validation: {idx}/{len(train_dl)}: {time.time() - start_time}')\n",
    "            break\n",
    "        validation_loss = running_val_loss / len(valid_dl)\n",
    "        epoch_val_losses.append(validation_loss)\n",
    "        \n",
    "        print(f'Epoch {epoch + 1} | Duration: {time.time()- epoch_start_time} | Train Loss: {train_loss} | Validation Loss: {validation_loss}')\n",
    "\n",
    "    # log the epoch_val_losses and epoch_train_losses\n",
    "    return model, epoch_val_losses, epoch_train_losses"
   ]
  },
  {
   "cell_type": "code",
   "execution_count": null,
   "metadata": {},
   "outputs": [],
   "source": []
  }
 ],
 "metadata": {
  "kernelspec": {
   "display_name": "ecs_fp",
   "language": "python",
   "name": "python3"
  },
  "language_info": {
   "codemirror_mode": {
    "name": "ipython",
    "version": 3
   },
   "file_extension": ".py",
   "mimetype": "text/x-python",
   "name": "python",
   "nbconvert_exporter": "python",
   "pygments_lexer": "ipython3",
   "version": "3.12.0"
  }
 },
 "nbformat": 4,
 "nbformat_minor": 2
}
