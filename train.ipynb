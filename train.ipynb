{
 "cells": [
  {
   "cell_type": "code",
   "execution_count": 2,
   "metadata": {},
   "outputs": [],
   "source": [
    "from utils.image_utils import plot_XY, gen_index_file\n",
    "from unet.dataset import SegThorImagesDataset\n",
    "import torch\n",
    "from torch.utils.data import DataLoader\n",
    "from unet.unet_model import UNet\n",
    "from torch import optim"
   ]
  },
  {
   "cell_type": "code",
   "execution_count": 3,
   "metadata": {},
   "outputs": [
    {
     "name": "stdout",
     "output_type": "stream",
     "text": [
      "Filename: data/train_patient_idx.csv already exists, skipping gen\n"
     ]
    }
   ],
   "source": [
    "# if index file doesn't exist, generate and save \n",
    "index_file_train = gen_index_file()"
   ]
  },
  {
   "cell_type": "code",
   "execution_count": 4,
   "metadata": {},
   "outputs": [
    {
     "name": "stdout",
     "output_type": "stream",
     "text": [
      "GPU is not available, using CPU instead.\n"
     ]
    }
   ],
   "source": [
    "if torch.cuda.is_available():\n",
    "    device = torch.device(\"cuda\")\n",
    "    print(\"GPU is available. \")\n",
    "else:\n",
    "    device = torch.device(\"cpu\")\n",
    "    print(\"GPU is not available, using CPU instead.\")"
   ]
  },
  {
   "cell_type": "code",
   "execution_count": 5,
   "metadata": {},
   "outputs": [],
   "source": [
    "# define model\n",
    "# define training loop \n",
    "train_dataset = SegThorImagesDataset() \n",
    "train_dl = DataLoader(train_dataset, batch_size=16, shuffle=True)\n",
    "# todo: split this into train/validate\n",
    "\n",
    "model = UNet(n_channels=1, n_classes=5) # 0: no-classification 1: organ, 2: organ, 3: organ, 4: organ\n",
    "\n",
    "criterion = torch.nn.CrossEntropyLoss()  # or any other applicable loss function\n",
    "optimizer = optim.Adam(model.parameters(), lr=0.001)\n",
    "\n",
    "num_epochs = 5  # Number of epochs\n",
    "model.to(device)\n",
    "\n",
    "model.train()\n",
    "epoch_loss = 0.0\n",
    "\n",
    "iter_dl = iter(train_dl)"
   ]
  },
  {
   "cell_type": "code",
   "execution_count": 10,
   "metadata": {},
   "outputs": [],
   "source": [
    "# define model\n",
    "# define training loop \n",
    "train_dataset = SegThorImagesDataset() # TODO: training img transforms\n",
    "train_dl = DataLoader(train_dataset, batch_size=16, shuffle=True)\n",
    "# todo: split this into train/validate\n",
    "\n",
    "model = UNet(n_channels=1, n_classes=5) # 0: no-classification 1: organ, 2: organ, 3: organ, 4: organ\n",
    "criterion = torch.nn.CrossEntropyLoss()  # or any other applicable loss function\n",
    "optimizer = optim.Adam(model.parameters(), lr=0.001)\n",
    "\n",
    "num_epochs = 5  # Number of epochs\n",
    "model.to(device)\n",
    "\n",
    "\n",
    "for epoch in range(num_epochs):\n",
    "    model.train()\n",
    "    running_loss = 0.0\n",
    "    for inputs, targets in train_dl:\n",
    "        inputs = inputs.to(device)\n",
    "        outputs = model(inputs)\n",
    "        outputs = outputs.cpu()\n",
    "        #predictions = torch.argmax(outputs, dim=1).float()\n",
    "        loss = criterion(outputs, targets.long())\n",
    "        optimizer.zero_grad()\n",
    "        loss.backward()\n",
    "        optimizer.step()\n",
    "        running_loss -= loss.item()\n",
    "        inputs.cpu()\n",
    "\n",
    "    print(f'Epoch {epoch + 1}, Loss: {running_loss / len(train_dl)}')\n",
    "\n",
    "model.cpu()\n"
   ]
  }
 ],
 "metadata": {
  "kernelspec": {
   "display_name": "ecs_fp",
   "language": "python",
   "name": "python3"
  },
  "language_info": {
   "codemirror_mode": {
    "name": "ipython",
    "version": 3
   },
   "file_extension": ".py",
   "mimetype": "text/x-python",
   "name": "python",
   "nbconvert_exporter": "python",
   "pygments_lexer": "ipython3",
   "version": "3.12.0"
  }
 },
 "nbformat": 4,
 "nbformat_minor": 2
}
