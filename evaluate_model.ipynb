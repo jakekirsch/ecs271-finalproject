{
 "cells": [
  {
   "cell_type": "code",
   "execution_count": 15,
   "id": "3c1d7298-87da-436a-9508-38acaa4c170b",
   "metadata": {
    "tags": []
   },
   "outputs": [],
   "source": [
    "import time\n",
    "import torch\n",
    "from utils.image_utils import gen_index_file\n",
    "from unet.dataset import SegThorImagesDataset\n",
    "from torch.utils.data import DataLoader, random_split\n",
    "from unet.unet_model import UNet\n",
    "from unet import simplified_unet_model\n",
    "from unet import loss\n",
    "\n",
    "from importlib import reload\n",
    "\n",
    "reload(loss)\n",
    "reload(simplified_unet_model)\n",
    "\n",
    "\n",
    "from torch import optim\n",
    "from torch import nn\n",
    "import os \n",
    "import pandas as pd \n",
    "from utils.model_utils import get_model_from_checkpoint\n",
    "\n"
   ]
  },
  {
   "cell_type": "code",
   "execution_count": 16,
   "id": "b5fd7481-8328-410c-a191-f039061e37eb",
   "metadata": {
    "tags": []
   },
   "outputs": [
    {
     "name": "stdout",
     "output_type": "stream",
     "text": [
      "Filename: data/train_patient_idx.csv already exists, skipping gen\n"
     ]
    }
   ],
   "source": [
    "test_idx_file = gen_index_file(root='/home/jupyter/ecs271_data/data/train')"
   ]
  },
  {
   "cell_type": "code",
   "execution_count": 17,
   "id": "123a7fd8-605a-421e-af76-92cd5f016b65",
   "metadata": {},
   "outputs": [
    {
     "name": "stdout",
     "output_type": "stream",
     "text": [
      "GPU is available. \n"
     ]
    }
   ],
   "source": [
    "if torch.cuda.is_available():\n",
    "    device = torch.device(\"cuda\")\n",
    "    print(\"GPU is available. \")\n",
    "else:\n",
    "    device = torch.device(\"cpu\")\n",
    "    print(\"GPU is not available, using CPU instead.\")\n",
    "\n",
    "DATA_DIR = '/home/jupyter/ecs271_data/data/train'\n",
    "EXPERIMENT_DIR = '/home/jupyter/ecs271_data/experiments'\n",
    "TRAIN_CSV = \"data/train_patient_idx_sorted.csv\"\n",
    "VALID_CSV = \"data/valid_patient_idx_sorted.csv\"\n",
    "INPUT_DATA_INDEX = 'data/train_patient_idx.csv'\n",
    "TEST_CSV = \"data/test_patient_idx.csv\"\n",
    "\n",
    "def evaluate_model(\n",
    "    model,\n",
    "    test_csv = TEST_CSV,\n",
    "    data_dir: str = DATA_DIR):    \n",
    "\n",
    "    test_dataset = SegThorImagesDataset(\n",
    "        patient_idx_file=test_csv,\n",
    "        root_dir=data_dir,\n",
    "        img_crop_size=312,\n",
    "        mask_output_size=220,\n",
    "        cache_size=1\n",
    "    )\n",
    "    test_dl = DataLoader(test_dataset, batch_size=32, shuffle=False)\n",
    "    \n",
    "    criterion = loss.GeneralizedDiceLoss(classes=[0, 1, 2, 3, 4])\n",
    "    \n",
    "    model.to(device)\n",
    "    model.eval()\n",
    "    class_losses = []\n",
    "    with torch.no_grad():\n",
    "        for idx, sample in enumerate(test_dl):\n",
    "            start_time = time.time()\n",
    "            inputs, targets = sample\n",
    "            inputs=inputs.to(device)\n",
    "            targets=targets.to(device)\n",
    "            outputs=model.predict_class_channels(inputs)\n",
    "            # want this per channel\n",
    "            per_channel_dice = criterion.dice_per_channel(outputs, targets.long())\n",
    "            per_channel_dice = per_channel_dice.to('cpu')\n",
    "            class_losses.append(per_channel_dice)\n",
    "    return torch.cat(class_losses, dim=0)\n",
    "    "
   ]
  },
  {
   "cell_type": "code",
   "execution_count": 18,
   "id": "fb9f79dc-110a-493d-9046-366cb592409f",
   "metadata": {
    "tags": []
   },
   "outputs": [],
   "source": [
    "from utils.model_utils import get_model_from_checkpoint\n",
    "\n",
    "experiment_name = 'simplified_unet_08_limited_train'\n",
    "model_epoch = simplified_unet_model.SimplifiedUNet(n_channels=1, n_classes=5, dropout=0.2)\n",
    "# model_epoch = get_model_from_checkpoint(experiment_dir = EXPERIMENT_DIR, \n",
    "#                                         experiment_name = experiment_name, \n",
    "#                                         model=model_epoch, \n",
    "#                                         epoch=39)"
   ]
  },
  {
   "cell_type": "code",
   "execution_count": 19,
   "id": "38a2b185-af44-4031-a7d5-139d04e35f4f",
   "metadata": {
    "tags": []
   },
   "outputs": [],
   "source": [
    "channel_dice = evaluate_model(model_epoch)"
   ]
  },
  {
   "cell_type": "code",
   "execution_count": 20,
   "id": "a47240a7-9bc9-4bc2-91df-052e7920887f",
   "metadata": {
    "tags": []
   },
   "outputs": [],
   "source": [
    "cat_means = channel_dice.mean(dim=0)"
   ]
  },
  {
   "cell_type": "code",
   "execution_count": 21,
   "id": "bfc2106b-8cd5-4fe1-96dc-420dc0f6db12",
   "metadata": {
    "tags": []
   },
   "outputs": [
    {
     "name": "stdout",
     "output_type": "stream",
     "text": [
      "background: 0.4275, esophagus: 0.0040, heart: 0.0262, trachea: 0.0006, aorta: 0.0024\n"
     ]
    }
   ],
   "source": [
    "loss.print_dice_by_category(cat_means)"
   ]
  },
  {
   "cell_type": "code",
   "execution_count": 8,
   "id": "876a2f26-a30b-409f-a19f-0fcdadf79bd7",
   "metadata": {
    "tags": []
   },
   "outputs": [
    {
     "name": "stdout",
     "output_type": "stream",
     "text": [
      "background: 0.9740, esophagus: 0.4946, heart: 0.4301, trachea: 0.7526, aorta: 0.6907\n"
     ]
    }
   ],
   "source": [
    "loss.print_dice_by_category(cat_means)"
   ]
  },
  {
   "cell_type": "code",
   "execution_count": null,
   "id": "9eb2a4fc-371b-45ee-9d78-a6d889b690f9",
   "metadata": {
    "tags": []
   },
   "outputs": [],
   "source": [
    "from utils import image_utils\n",
    "from importlib import reload\n",
    "reload(image_utils)\n",
    "\n",
    "# get sample \n",
    "test_dataset = SegThorImagesDataset(\n",
    "        patient_idx_file=TEST_CSV,\n",
    "        root_dir=DATA_DIR,\n",
    "        img_crop_size=312,\n",
    "        mask_output_size=220,\n",
    "        cache_size=1\n",
    ")\n",
    "\n",
    "X, Y = test_dataset[350]\n",
    "X = X.to(device)\n",
    "Y = Y.to(device)\n",
    "\n",
    "image_utils.plot_XY_pred_class(model_epoch, X, Y)"
   ]
  },
  {
   "cell_type": "code",
   "execution_count": null,
   "id": "c5adec64-21ac-4e8a-825d-ca796a706fc0",
   "metadata": {},
   "outputs": [],
   "source": []
  }
 ],
 "metadata": {
  "environment": {
   "kernel": "conda-env-pytorch-pytorch",
   "name": "workbench-notebooks.m120",
   "type": "gcloud",
   "uri": "us-docker.pkg.dev/deeplearning-platform-release/gcr.io/workbench-notebooks:m120"
  },
  "kernelspec": {
   "display_name": "PyTorch 1-13 (Local)",
   "language": "python",
   "name": "conda-env-pytorch-pytorch"
  },
  "language_info": {
   "codemirror_mode": {
    "name": "ipython",
    "version": 3
   },
   "file_extension": ".py",
   "mimetype": "text/x-python",
   "name": "python",
   "nbconvert_exporter": "python",
   "pygments_lexer": "ipython3",
   "version": "3.10.14"
  }
 },
 "nbformat": 4,
 "nbformat_minor": 5
}
